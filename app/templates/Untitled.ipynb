{
 "cells": [
  {
   "cell_type": "code",
   "execution_count": 15,
   "metadata": {},
   "outputs": [
    {
     "name": "stdout",
     "output_type": "stream",
     "text": [
      "Overwriting start_page.html\n"
     ]
    }
   ],
   "source": [
    "%%writefile start_page.html\n",
    "<!DOCTYPE html>\n",
    "<html>\n",
    "    <style>\n",
    "        body {\n",
    "            background: #F5F5F5;\n",
    "        }\n",
    "        div.header {\n",
    "            height: 25%;\n",
    "            width: 100%;\n",
    "            padding: 1px;\n",
    "            text-align: center;\n",
    "            background: #39ac39;\n",
    "            color: white;\n",
    "            font-size: 20px;\n",
    "            text-shadow: 1px 1px 2px black;  \n",
    "        }\n",
    "        .head_image {\n",
    "            float: left;\n",
    "            padding: 5px;\n",
    "            height: 70px;\n",
    "        }\n",
    "        \n",
    "        .h1p_header { \n",
    "            margin: 2px;\n",
    "        }\n",
    "        \n",
    "    </style>\n",
    "<head>\n",
    "    <title>HH_DMFT</title>\n",
    "</head>\n",
    "<body>\n",
    "    <img class=\"head_image\"; src=\"{{ url_for('static', filename='logo.png') }}\" />\n",
    "    <div class=\"header\">\n",
    "        <h1 class=\"h1p_headers\"> HH DMFT </h1>\n",
    "        <p class=\"h1p_headers\">Application for computation Hubbard Holstein model using DMFT</p>\n",
    "    </div>\n",
    "    {% block content %}\n",
    "    {% endblock %}\n",
    "</body>\n",
    "</html>"
   ]
  },
  {
   "cell_type": "code",
   "execution_count": 12,
   "metadata": {},
   "outputs": [
    {
     "name": "stdout",
     "output_type": "stream",
     "text": [
      "Overwriting tight_binding.html\n"
     ]
    }
   ],
   "source": [
    "%%writefile tight_binding.html\n",
    "{% extends 'start_page.html' %}\n",
    "{% block content %}    \n",
    "    <form id=\"Form1\">\n",
    "        <input type=\"submit\" name=\"action\" value=\"Form1\">\n",
    "    </form>\n",
    "\n",
    "    <form id=\"Form2\">\n",
    "        <input type=\"submit\" name=\"action\" value=\"Form2\">\n",
    "    </form>\n",
    "\n",
    "    <form id=\"Form3\">\n",
    "        <input type=\"submit\" name=\"action\" value=\"Form3\">\n",
    "    </form>\n",
    "{% endblock %}"
   ]
  },
  {
   "cell_type": "code",
   "execution_count": null,
   "metadata": {},
   "outputs": [],
   "source": []
  }
 ],
 "metadata": {
  "kernelspec": {
   "display_name": "Python 3",
   "language": "python",
   "name": "python3"
  },
  "language_info": {
   "codemirror_mode": {
    "name": "ipython",
    "version": 3
   },
   "file_extension": ".py",
   "mimetype": "text/x-python",
   "name": "python",
   "nbconvert_exporter": "python",
   "pygments_lexer": "ipython3",
   "version": "3.7.3"
  }
 },
 "nbformat": 4,
 "nbformat_minor": 4
}
