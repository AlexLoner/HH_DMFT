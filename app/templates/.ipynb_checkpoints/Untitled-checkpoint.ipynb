{
 "cells": [
  {
   "cell_type": "code",
   "execution_count": 13,
   "metadata": {},
   "outputs": [
    {
     "name": "stdout",
     "output_type": "stream",
     "text": [
      "Overwriting start_page.html\n"
     ]
    }
   ],
   "source": [
    "%%writefile start_page.html\n",
    "<!DOCTYPE html>\n",
    "<html>\n",
    "    <style>\n",
    "        body {\n",
    "            background: #F5F5F5;\n",
    "        }\n",
    "        div.header {\n",
    "            width: 100%;\n",
    "            padding: 1px;\n",
    "            text-align: center;\n",
    "            background: #39ac39;\n",
    "            color: white;\n",
    "            font-size: 20px;\n",
    "            text-shadow: 1px 1px 2px black;  \n",
    "        }\n",
    "        .head_image {\n",
    "            float: left;\n",
    "            padding: 8px;\n",
    "            height: 100px;\n",
    "        }\n",
    "        .header h1, p {\n",
    "            line-height: 65%;\n",
    "        }\n",
    "        \n",
    "    </style>\n",
    "<head>\n",
    "    <title>HH_DMFT</title>\n",
    "</head>\n",
    "<body>\n",
    "    <img class=\"head_image\"; src=\"{{ url_for('static', filename='logo.png') }}\" />\n",
    "    <div class=\"header\">\n",
    "        <h1 class=\"h1p_headres\"> HH DMFT </h1>\n",
    "        <p  class=\"h1p_headers\">Application for computation Hubbard Holstein model using DMFT approach</p>\n",
    "    </div>\n",
    "    {% block content %}\n",
    "    {% endblock %}\n",
    "</body>\n",
    "</html>"
   ]
  },
  {
   "cell_type": "code",
   "execution_count": 15,
   "metadata": {},
   "outputs": [
    {
     "name": "stdout",
     "output_type": "stream",
     "text": [
      "Overwriting tight_binding.html\n"
     ]
    }
   ],
   "source": [
    "%%writefile tight_binding.html\n",
    "{% extends 'start_page.html' %}\n",
    "{% block content %}    \n",
    "    <style>\n",
    "        form {\n",
    "            paddle: 5px;\n",
    "            width: 35%;\n",
    "            margin: 10px auto;\n",
    "        }\n",
    "    </style>\n",
    "      \n",
    "    <form action=\"{{ url_for('tb_form') }}\" method=\"post\">\n",
    "        <p paddle=\"10px\"> Vectors: </p>\n",
    "            <input type=\"text\" size=50 name=\"vec1\">\n",
    "            <input type=\"text\" size=50 name=\"vec2\">\n",
    "            <input type=\"text\" size=50 name=\"vec3\">\n",
    "            <button> Send </button>\n",
    "    </form>\n",
    "    \n",
    "\n",
    "    \n",
    "{% endblock %}"
   ]
  },
  {
   "cell_type": "code",
   "execution_count": null,
   "metadata": {},
   "outputs": [],
   "source": []
  }
 ],
 "metadata": {
  "kernelspec": {
   "display_name": "Python 3",
   "language": "python",
   "name": "python3"
  },
  "language_info": {
   "codemirror_mode": {
    "name": "ipython",
    "version": 3
   },
   "file_extension": ".py",
   "mimetype": "text/x-python",
   "name": "python",
   "nbconvert_exporter": "python",
   "pygments_lexer": "ipython3",
   "version": "3.7.3"
  }
 },
 "nbformat": 4,
 "nbformat_minor": 4
}
