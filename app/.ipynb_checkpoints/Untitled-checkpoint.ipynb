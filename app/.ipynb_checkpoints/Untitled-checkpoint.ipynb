{
 "cells": [
  {
   "cell_type": "code",
   "execution_count": 6,
   "metadata": {},
   "outputs": [
    {
     "name": "stdout",
     "output_type": "stream",
     "text": [
      "Overwriting templates/start_page.html\n"
     ]
    }
   ],
   "source": [
    "%%writefile templates/start_page.html\n",
    "<!DOCTYPE html>\n",
    "<html>\n",
    "    <style>\n",
    "        body {\n",
    "            background: #F5F5F5;\n",
    "        }\n",
    "        div {\n",
    "            height: 20%;\n",
    "            width: 100%;\n",
    "        }\n",
    "        .header {\n",
    "            padding: 1px;\n",
    "            text-align: center;\n",
    "            background: #39ac39;\n",
    "            color: white;\n",
    "            font-size: 20px;\n",
    "            text-shadow: 1px 1px 2px black;            \n",
    "        }\n",
    "        .head_image {\n",
    "            float: left;\n",
    "            padding: 5px;\n",
    "            height: 140px;\n",
    "        }\n",
    "        \n",
    "    </style>\n",
    "<head>\n",
    "    <title>HH_DMFT</title>\n",
    "</head>\n",
    "\n",
    "<body>\n",
    "    <img class=\"head_image\"; src=\"{{ url_for('static', filename='logo.png') }}\" />\n",
    "    <div class=\"header\">\n",
    "        \n",
    "        <h1> HH DMFT </h1>\n",
    "        \n",
    "        <p>Application for computation Hubbard Holstein model with DMFT</p>\n",
    "    </div>\n",
    "</body>\n",
    "\n",
    "</html>"
   ]
  },
  {
   "cell_type": "code",
   "execution_count": null,
   "metadata": {},
   "outputs": [],
   "source": []
  }
 ],
 "metadata": {
  "kernelspec": {
   "display_name": "Python 3",
   "language": "python",
   "name": "python3"
  },
  "language_info": {
   "codemirror_mode": {
    "name": "ipython",
    "version": 3
   },
   "file_extension": ".py",
   "mimetype": "text/x-python",
   "name": "python",
   "nbconvert_exporter": "python",
   "pygments_lexer": "ipython3",
   "version": "3.7.3"
  }
 },
 "nbformat": 4,
 "nbformat_minor": 4
}
