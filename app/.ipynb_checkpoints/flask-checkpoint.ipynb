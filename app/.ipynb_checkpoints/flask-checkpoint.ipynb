{
 "cells": [
  {
   "cell_type": "code",
   "execution_count": 1,
   "metadata": {},
   "outputs": [],
   "source": [
    "from flask import render_template, Flask, redirect, request"
   ]
  },
  {
   "cell_type": "code",
   "execution_count": 2,
   "metadata": {},
   "outputs": [],
   "source": [
    "from flask_wtf import FlaskForm\n",
    "from wtforms import StringField, IntegerField\n",
    "from wtforms.validators import DataRequired\n",
    "import os\n",
    "SECRET_KEY = os.urandom(32)\n",
    "\n",
    "\n",
    "class Vectors(FlaskForm):\n",
    "    n = 2\n",
    "    for i, j in enumerate(range(n)):\n",
    "        i = StringField(validators=[DataRequired()])\n",
    "\n",
    "# class Atoms(FlaskForm):\n",
    "#     atoms = StringField(validators=[DataRequired()])\n",
    "\n",
    "# class Atoms_positions(FlaskForm):\n",
    "#     atoms = StringField(validators=[DataRequired()])\n",
    "\n",
    "# class Translations(FlaskForm):\n",
    "#     atoms = StringField(validators=[DataRequired()])\n"
   ]
  },
  {
   "cell_type": "code",
   "execution_count": 5,
   "metadata": {},
   "outputs": [
    {
     "name": "stdout",
     "output_type": "stream",
     "text": [
      " * Serving Flask app \"__main__\" (lazy loading)\n",
      " * Environment: production\n",
      "   WARNING: This is a development server. Do not use it in a production deployment.\n",
      "   Use a production WSGI server instead.\n",
      " * Debug mode: off\n"
     ]
    },
    {
     "name": "stderr",
     "output_type": "stream",
     "text": [
      " * Running on http://127.0.0.1:5000/ (Press CTRL+C to quit)\n",
      "[2020-02-17 20:15:44,274] ERROR in app: Exception on /test [POST]\n",
      "Traceback (most recent call last):\n",
      "  File \"/home/loner/anaconda3/lib/python3.7/site-packages/flask/app.py\", line 2446, in wsgi_app\n",
      "    response = self.full_dispatch_request()\n",
      "  File \"/home/loner/anaconda3/lib/python3.7/site-packages/flask/app.py\", line 1951, in full_dispatch_request\n",
      "    rv = self.handle_user_exception(e)\n",
      "  File \"/home/loner/anaconda3/lib/python3.7/site-packages/flask/app.py\", line 1820, in handle_user_exception\n",
      "    reraise(exc_type, exc_value, tb)\n",
      "  File \"/home/loner/anaconda3/lib/python3.7/site-packages/flask/_compat.py\", line 39, in reraise\n",
      "    raise value\n",
      "  File \"/home/loner/anaconda3/lib/python3.7/site-packages/flask/app.py\", line 1949, in full_dispatch_request\n",
      "    rv = self.dispatch_request()\n",
      "  File \"/home/loner/anaconda3/lib/python3.7/site-packages/flask/app.py\", line 1935, in dispatch_request\n",
      "    return self.view_functions[rule.endpoint](**req.view_args)\n",
      "  File \"<ipython-input-5-b9db499ede54>\", line 43, in test\n",
      "    vecs.append(input_vec(request.form.get('vec' + str(i+1))))\n",
      "NameError: name 'input_vec' is not defined\n",
      "127.0.0.1 - - [17/Feb/2020 20:15:44] \"\u001b[1m\u001b[35mPOST /test HTTP/1.1\u001b[0m\" 500 -\n",
      "[2020-02-17 20:15:44,340] ERROR in app: Exception on /test [GET]\n",
      "Traceback (most recent call last):\n",
      "  File \"/home/loner/anaconda3/lib/python3.7/site-packages/flask/app.py\", line 2446, in wsgi_app\n",
      "    response = self.full_dispatch_request()\n",
      "  File \"/home/loner/anaconda3/lib/python3.7/site-packages/flask/app.py\", line 1951, in full_dispatch_request\n",
      "    rv = self.handle_user_exception(e)\n",
      "  File \"/home/loner/anaconda3/lib/python3.7/site-packages/flask/app.py\", line 1820, in handle_user_exception\n",
      "    reraise(exc_type, exc_value, tb)\n",
      "  File \"/home/loner/anaconda3/lib/python3.7/site-packages/flask/_compat.py\", line 39, in reraise\n",
      "    raise value\n",
      "  File \"/home/loner/anaconda3/lib/python3.7/site-packages/flask/app.py\", line 1949, in full_dispatch_request\n",
      "    rv = self.dispatch_request()\n",
      "  File \"/home/loner/anaconda3/lib/python3.7/site-packages/flask/app.py\", line 1935, in dispatch_request\n",
      "    return self.view_functions[rule.endpoint](**req.view_args)\n",
      "  File \"<ipython-input-5-b9db499ede54>\", line 45, in test\n",
      "    return render_template('test.html', vec = [])\n",
      "  File \"/home/loner/anaconda3/lib/python3.7/site-packages/flask/templating.py\", line 138, in render_template\n",
      "    ctx.app.jinja_env.get_or_select_template(template_name_or_list),\n",
      "  File \"/home/loner/anaconda3/lib/python3.7/site-packages/jinja2/environment.py\", line 869, in get_or_select_template\n",
      "    return self.get_template(template_name_or_list, parent, globals)\n",
      "  File \"/home/loner/anaconda3/lib/python3.7/site-packages/jinja2/environment.py\", line 830, in get_template\n",
      "    return self._load_template(name, self.make_globals(globals))\n",
      "  File \"/home/loner/anaconda3/lib/python3.7/site-packages/jinja2/environment.py\", line 804, in _load_template\n",
      "    template = self.loader.load(self, name, globals)\n",
      "  File \"/home/loner/anaconda3/lib/python3.7/site-packages/jinja2/loaders.py\", line 125, in load\n",
      "    code = environment.compile(source, name, filename)\n",
      "  File \"/home/loner/anaconda3/lib/python3.7/site-packages/jinja2/environment.py\", line 591, in compile\n",
      "    self.handle_exception(exc_info, source_hint=source_hint)\n",
      "  File \"/home/loner/anaconda3/lib/python3.7/site-packages/jinja2/environment.py\", line 780, in handle_exception\n",
      "    reraise(exc_type, exc_value, tb)\n",
      "  File \"/home/loner/anaconda3/lib/python3.7/site-packages/jinja2/_compat.py\", line 37, in reraise\n",
      "    raise value.with_traceback(tb)\n",
      "  File \"/home/loner/Documents/GitHub_repos/HH_DMFT/app/templates/test.html\", line 24, in template\n",
      "    <input class=\"set_attr\" type=\"text\" name={% \"vec\" ~i %} value=\"{{ i }}\">\n",
      "  File \"/home/loner/anaconda3/lib/python3.7/site-packages/jinja2/environment.py\", line 497, in _parse\n",
      "    return Parser(self, source, name, encode_filename(filename)).parse()\n",
      "  File \"/home/loner/anaconda3/lib/python3.7/site-packages/jinja2/parser.py\", line 901, in parse\n",
      "    result = nodes.Template(self.subparse(), lineno=1)\n",
      "  File \"/home/loner/anaconda3/lib/python3.7/site-packages/jinja2/parser.py\", line 883, in subparse\n",
      "    rv = self.parse_statement()\n",
      "  File \"/home/loner/anaconda3/lib/python3.7/site-packages/jinja2/parser.py\", line 130, in parse_statement\n",
      "    return getattr(self, 'parse_' + self.stream.current.value)()\n",
      "  File \"/home/loner/anaconda3/lib/python3.7/site-packages/jinja2/parser.py\", line 268, in parse_block\n",
      "    node.body = self.parse_statements(('name:endblock',), drop_needle=True)\n",
      "  File \"/home/loner/anaconda3/lib/python3.7/site-packages/jinja2/parser.py\", line 165, in parse_statements\n",
      "    result = self.subparse(end_tokens)\n",
      "  File \"/home/loner/anaconda3/lib/python3.7/site-packages/jinja2/parser.py\", line 883, in subparse\n",
      "    rv = self.parse_statement()\n",
      "  File \"/home/loner/anaconda3/lib/python3.7/site-packages/jinja2/parser.py\", line 130, in parse_statement\n",
      "    return getattr(self, 'parse_' + self.stream.current.value)()\n",
      "  File \"/home/loner/anaconda3/lib/python3.7/site-packages/jinja2/parser.py\", line 212, in parse_if\n",
      "    node.body = self.parse_statements(('name:elif', 'name:else',\n",
      "  File \"/home/loner/anaconda3/lib/python3.7/site-packages/jinja2/parser.py\", line 165, in parse_statements\n",
      "    result = self.subparse(end_tokens)\n",
      "  File \"/home/loner/anaconda3/lib/python3.7/site-packages/jinja2/parser.py\", line 883, in subparse\n",
      "    rv = self.parse_statement()\n",
      "  File \"/home/loner/anaconda3/lib/python3.7/site-packages/jinja2/parser.py\", line 130, in parse_statement\n",
      "    return getattr(self, 'parse_' + self.stream.current.value)()\n",
      "  File \"/home/loner/anaconda3/lib/python3.7/site-packages/jinja2/parser.py\", line 199, in parse_for\n",
      "    body = self.parse_statements(('name:endfor', 'name:else'))\n",
      "  File \"/home/loner/anaconda3/lib/python3.7/site-packages/jinja2/parser.py\", line 165, in parse_statements\n",
      "    result = self.subparse(end_tokens)\n",
      "  File \"/home/loner/anaconda3/lib/python3.7/site-packages/jinja2/parser.py\", line 883, in subparse\n",
      "    rv = self.parse_statement()\n",
      "  File \"/home/loner/anaconda3/lib/python3.7/site-packages/jinja2/parser.py\", line 125, in parse_statement\n",
      "    self.fail('tag name expected', token.lineno)\n",
      "  File \"/home/loner/anaconda3/lib/python3.7/site-packages/jinja2/parser.py\", line 59, in fail\n",
      "    raise exc(msg, lineno, self.name, self.filename)\n",
      "jinja2.exceptions.TemplateSyntaxError: tag name expected\n",
      "127.0.0.1 - - [17/Feb/2020 20:15:44] \"\u001b[1m\u001b[35mGET /test HTTP/1.1\u001b[0m\" 500 -\n"
     ]
    },
    {
     "name": "stdout",
     "output_type": "stream",
     "text": [
      "ImmutableMultiDict([('vec', '1 11 1213'), ('vec', '0 1 2'), ('vec', '1 0 0')])\n",
      "ImmutableMultiDict([])\n"
     ]
    }
   ],
   "source": [
    "app = Flask(__name__, template_folder='templates')\n",
    "app.config['SECRET_KEY'] = SECRET_KEY\n",
    "app.n_form = 1\n",
    "#------------------------------------------------------\n",
    "@app.route('/')\n",
    "def root():\n",
    "    return render_template(\"start_page.html\")\n",
    "\n",
    "#------------------------------------------------------\n",
    "@app.route('/tb_form', methods=['GET', 'POST'])\n",
    "def tb_form():\n",
    "#     return('Hello, World')\n",
    "#     data = []\n",
    "#     if request.method == 'POST':\n",
    "#         for i in range(3):\n",
    "#             data.append(request.form.get('vec' + str(1+i)))\n",
    "#     print(data)\n",
    "    return render_template('tight_binding.html')\n",
    "\n",
    "#-------------------------------------------------------\n",
    "@app.route('/test_form', methods=['GET', 'POST'])\n",
    "def test_form():\n",
    "    print(request.form)\n",
    "    if request.method == 'POST':\n",
    "        plus = request.form.get('add_line')\n",
    "        if plus:\n",
    "            app.n_form += int(plus)\n",
    "            return render_template('test_form.html', n=app.n_form)\n",
    "    return render_template('test_form.html', n=app.n_form)\n",
    "\n",
    "#------------------------------------------------------\n",
    "data = {'vecs' : [],\n",
    "        'atoms' : [],\n",
    "        'coords' : [],\n",
    "        'trans' : []}\n",
    "@app.route('/test', methods=['GET', 'POST'])\n",
    "def test():\n",
    "    print(request.form)\n",
    "    if len(data['vecs']) < 3:\n",
    "        vecs = []\n",
    "        if request.method == \"POST\":\n",
    "            for i in range(3):\n",
    "                vecs.append(input_vec(request.form.get('vec' + str(i+1))))\n",
    "            data['vecs'] = vecs\n",
    "        return render_template('test.html', vec = [])\n",
    "    else:\n",
    "        return render_template('test.html', vec = data[\"vecs\"])\n",
    "app.run()"
   ]
  },
  {
   "cell_type": "code",
   "execution_count": 50,
   "metadata": {},
   "outputs": [
    {
     "data": {
      "text/plain": [
       "{'vecs': ['1 1 0', '0 1 2', '1 0 0'], 'atoms': [], 'coords': [], 'trans': []}"
      ]
     },
     "execution_count": 50,
     "metadata": {},
     "output_type": "execute_result"
    }
   ],
   "source": [
    "data"
   ]
  },
  {
   "cell_type": "markdown",
   "metadata": {},
   "source": [
    "### Обработка ввода"
   ]
  },
  {
   "cell_type": "code",
   "execution_count": 40,
   "metadata": {},
   "outputs": [],
   "source": [
    "def input_num_at(string):\n",
    "    return ' '.join(''.join([ i if i.isdigit() else ' '  for i in string]).split()[:1])\n",
    "def input_vec(string):\n",
    "    return ' '.join(''.join([ i if i.isdigit() else ' '  for i in string]).split()[:3])"
   ]
  },
  {
   "cell_type": "code",
   "execution_count": null,
   "metadata": {},
   "outputs": [],
   "source": []
  }
 ],
 "metadata": {
  "kernelspec": {
   "display_name": "Python 3",
   "language": "python",
   "name": "python3"
  },
  "language_info": {
   "codemirror_mode": {
    "name": "ipython",
    "version": 3
   },
   "file_extension": ".py",
   "mimetype": "text/x-python",
   "name": "python",
   "nbconvert_exporter": "python",
   "pygments_lexer": "ipython3",
   "version": "3.7.3"
  }
 },
 "nbformat": 4,
 "nbformat_minor": 4
}
