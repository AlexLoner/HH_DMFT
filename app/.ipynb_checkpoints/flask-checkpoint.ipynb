{
 "cells": [
  {
   "cell_type": "code",
   "execution_count": 1,
   "metadata": {},
   "outputs": [],
   "source": [
    "from flask import render_template, Flask, redirect, request"
   ]
  },
  {
   "cell_type": "code",
   "execution_count": 75,
   "metadata": {},
   "outputs": [],
   "source": [
    "from flask_wtf import FlaskForm\n",
    "from wtforms import StringField, IntegerField, SubmitField\n",
    "from wtforms.validators import DataRequired\n",
    "import os\n",
    "SECRET_KEY = os.urandom(32)\n",
    "\n",
    "    \n",
    "class Vectors(FlaskForm):\n",
    "    n = 3\n",
    "    for i in range(n):\n",
    "        setattr(FlaskForm, 'vec' + str(i), StringField(validators=[DataRequired()]))\n",
    "    sub = SubmitField()\n",
    "    "
   ]
  },
  {
   "cell_type": "code",
   "execution_count": null,
   "metadata": {},
   "outputs": [
    {
     "name": "stdout",
     "output_type": "stream",
     "text": [
      " * Serving Flask app \"__main__\" (lazy loading)\n",
      " * Environment: production\n",
      "   WARNING: This is a development server. Do not use it in a production deployment.\n",
      "   Use a production WSGI server instead.\n",
      " * Debug mode: off\n"
     ]
    },
    {
     "name": "stderr",
     "output_type": "stream",
     "text": [
      " * Running on http://127.0.0.1:5000/ (Press CTRL+C to quit)\n",
      "127.0.0.1 - - [18/Feb/2020 20:16:38] \"GET /a HTTP/1.1\" 200 -\n",
      "[2020-02-18 20:16:43,762] ERROR in app: Exception on /a [POST]\n",
      "Traceback (most recent call last):\n",
      "  File \"/home/titan/anaconda3/lib/python3.7/site-packages/flask/app.py\", line 2446, in wsgi_app\n",
      "    response = self.full_dispatch_request()\n",
      "  File \"/home/titan/anaconda3/lib/python3.7/site-packages/flask/app.py\", line 1951, in full_dispatch_request\n",
      "    rv = self.handle_user_exception(e)\n",
      "  File \"/home/titan/anaconda3/lib/python3.7/site-packages/flask/app.py\", line 1820, in handle_user_exception\n",
      "    reraise(exc_type, exc_value, tb)\n",
      "  File \"/home/titan/anaconda3/lib/python3.7/site-packages/flask/_compat.py\", line 39, in reraise\n",
      "    raise value\n",
      "  File \"/home/titan/anaconda3/lib/python3.7/site-packages/flask/app.py\", line 1949, in full_dispatch_request\n",
      "    rv = self.dispatch_request()\n",
      "  File \"/home/titan/anaconda3/lib/python3.7/site-packages/flask/app.py\", line 1935, in dispatch_request\n",
      "    return self.view_functions[rule.endpoint](**req.view_args)\n",
      "  File \"<ipython-input-82-cb55a2964823>\", line 32, in a\n",
      "    vecs.append(input_vec(next(f).data))\n",
      "NameError: name 'f' is not defined\n",
      "127.0.0.1 - - [18/Feb/2020 20:16:43] \"POST /a HTTP/1.1\" 500 -\n"
     ]
    }
   ],
   "source": [
    "app = Flask(__name__, template_folder='templates')\n",
    "app.config['SECRET_KEY'] = SECRET_KEY\n",
    "app.n_form = 1\n",
    "data = {'vecs' : [],\n",
    "        'atoms' : [],\n",
    "        'coords' : [],\n",
    "        'trans' : []}\n",
    "\n",
    "#------------------------------------------------------\n",
    "@app.route('/')\n",
    "def root():\n",
    "    return render_template(\"start_page.html\")\n",
    "\n",
    "#------------------------------------------------------\n",
    "@app.route('/tb_form', methods=['GET', 'POST'])\n",
    "def tb_form():\n",
    "    print(data)\n",
    "    print(request.method)\n",
    "    vecs = []\n",
    "    if request.method == \"POST\":\n",
    "        for i in range(3):\n",
    "            vecs.append(input_vec(request.form.get('vec' + str(i+1))))\n",
    "        data['vecs'] = vecs\n",
    "    return render_template('tb_form.html', vec=data[\"vecs\"])\n",
    "#-------------------------------------------------------\n",
    "@app.route('/a', methods=['GET', 'POST'])\n",
    "def a():\n",
    "    form = Vectors(request.form)\n",
    "    if request.method == \"POST\":\n",
    "        vecs = []\n",
    "        while len(vecs) < form.n:\n",
    "            vecs.append(input_vec(next(form).data))\n",
    "        data['vecs'] = vecs\n",
    "        return redirect('/')\n",
    "    return render_template('test.html', form=form)\n",
    "\n",
    "#-------------------------------------------------------\n",
    "#-------------------------------------------------------\n",
    "#-------------------------------------------------------\n",
    "# @app.route('/test_form', methods=['GET', 'POST'])\n",
    "# def test_form():\n",
    "#     print(request.form)\n",
    "#     if request.method == 'POST':\n",
    "#         plus = request.form.get('add_line')\n",
    "#         if plus:\n",
    "#             app.n_form += int(plus)\n",
    "#             return render_template('test_form.html', n=app.n_form)\n",
    "#     return render_template('test_form.html', n=app.n_form)\n",
    "\n",
    "#------------------------------------------------------\n",
    "\n",
    "# @app.route('/test', methods=['GET', 'POST'])\n",
    "# def test():\n",
    "#     print(request.form)\n",
    "#     if len(data['vecs']) < 3:\n",
    "#         vecs = []\n",
    "#         if request.method == \"POST\":\n",
    "#             for i in range(3):\n",
    "#                 vecs.append(input_vec(request.form.get('vec' + str(i+1))))\n",
    "#             data['vecs'] = vecs\n",
    "#         return render_template('test.html', vec = [])\n",
    "#     else:\n",
    "#         return render_template('test.html', vec = data[\"vecs\"])\n",
    "app.run()"
   ]
  },
  {
   "cell_type": "code",
   "execution_count": 33,
   "metadata": {},
   "outputs": [
    {
     "data": {
      "text/plain": [
       "{'vecs': [], 'atoms': [], 'coords': [], 'trans': []}"
      ]
     },
     "execution_count": 33,
     "metadata": {},
     "output_type": "execute_result"
    }
   ],
   "source": [
    "dataredirect"
   ]
  },
  {
   "cell_type": "markdown",
   "metadata": {},
   "source": [
    "### Обработка ввода"
   ]
  },
  {
   "cell_type": "code",
   "execution_count": 7,
   "metadata": {},
   "outputs": [],
   "source": [
    "def input_num_at(string):\n",
    "    return ' '.join(''.join([ i if i.isdigit() else ' '  for i in string]).split()[:1])\n",
    "def input_vec(string):\n",
    "    return ' '.join(''.join([ i if i.isdigit() else ' '  for i in string]).split()[:3])"
   ]
  },
  {
   "cell_type": "code",
   "execution_count": null,
   "metadata": {},
   "outputs": [],
   "source": []
  }
 ],
 "metadata": {
  "kernelspec": {
   "display_name": "Python 3",
   "language": "python",
   "name": "python3"
  },
  "language_info": {
   "codemirror_mode": {
    "name": "ipython",
    "version": 3
   },
   "file_extension": ".py",
   "mimetype": "text/x-python",
   "name": "python",
   "nbconvert_exporter": "python",
   "pygments_lexer": "ipython3",
   "version": "3.7.6"
  }
 },
 "nbformat": 4,
 "nbformat_minor": 4
}
