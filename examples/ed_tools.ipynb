{
 "cells": [
  {
   "cell_type": "code",
   "execution_count": 1,
   "metadata": {},
   "outputs": [
    {
     "name": "stdout",
     "output_type": "stream",
     "text": [
      "Overwriting ed_tools.py\n"
     ]
    }
   ],
   "source": [
    "%%writefile ed_tools.py\n",
    "# -*- coding: utf-8 -*-\n",
    "from __future__ import print_function, division, absolute_import, unicode_literals\n",
    "\n",
    "import numba\n",
    "import torch as th\n",
    "import numpy as np\n",
    "from scipy.sparse import csr_matrix, coo_matrix\n",
    "\n",
    "@numba.jit(parallel=True)\n",
    "def diagonalize_hamiltonian(H, blocks):\n",
    "    '''...'''\n",
    "    U_full = csr_matrix(H.shape, dtype=np.float32)\n",
    "    E_full = np.zeros(H.shape[0])\n",
    "    for i in numba.prange(len(blocks)):\n",
    "        block = blocks[i]\n",
    "        X,Y = np.meshgrid(block,block)\n",
    "        E, U = np.linalg.eigh(H[X,Y].todense())\n",
    "        E_full[block] = E\n",
    "        U_full[Y,X] = U\n",
    "\n",
    "    E = np.array(E_full)\n",
    "    E0 = np.min(E)\n",
    "    E = E - E0\n",
    "    return E, E0, U_full\n",
    "\n",
    "def get_frequency_greens_function_component(op2eb, iwn, op1, op2, beta, E, U, Z, xi=-1.0):\n",
    "\n",
    "    r\"\"\"\n",
    "    Returns:\n",
    "    G^{(2)}(i\\omega_n) = -1/Z < O_1(i\\omega_n) O_2(-i\\omega_n) >\n",
    "    \"\"\"\n",
    "    op1_eig, op2_eig = op2eb(U, [op1.astype(np.float32), op2.astype(np.float32)])\n",
    "    # -- Compute Lehman sum for all operator combinations\n",
    "    G = np.zeros((len(iwn)), dtype=np.complex64)\n",
    "    op = (op1_eig.getH().multiply(op2_eig)).tocoo().astype(np.float32)\n",
    "    del op1_eig, op2_eig\n",
    "    M = (np.exp(-beta * E[op.row]) - xi * np.exp(-beta * E[op.col])) * op.data\n",
    "    e = (E[op.row] - E[op.col])\n",
    "    del op\n",
    "    for i in range(len(iwn)):\n",
    "        G[i] = np.sum(M / (iwn[i] - e))\n",
    "    G /= Z\n",
    "    return G\n",
    "\n",
    "\n",
    "def calculate_partition_function(beta, E):\n",
    "    return np.sum(np.exp(-beta * E))\n",
    "\n",
    "def operators_to_eigenbasis_cpu(U, op_vec):\n",
    "    dop_vec = []\n",
    "    u = U.toarray()\n",
    "    for op in op_vec:\n",
    "        M = u.T.dot(op.toarray().dot(u))\n",
    "        dop_vec.append(coo_matrix(M, dtype=np.float32))\n",
    "\n",
    "    return dop_vec\n",
    "\n",
    "def operators_to_eigenbasis_gpu(U, op_vec):\n",
    "    dop_vec = []\n",
    "    d = th.FloatTensor(U.data)\n",
    "    rc = th.LongTensor(np.vstack((U.row, U.col)))\n",
    "    u = th.sparse.FloatTensor(rc, d,  th.Size(U.shape))\n",
    "    del d, rc\n",
    "    th.cuda.empty_cache()\n",
    "    with th.cuda.device(0):\n",
    "        u = u.cuda()\n",
    "    for op in op_vec:\n",
    "        with th.cuda.device(0):\n",
    "            data = op.data.astype(np.float32)\n",
    "            d = th.FloatTensor(data)\n",
    "            rc = th.LongTensor(np.vstack((op.row, op.col)))\n",
    "            tm = th.sparse.FloatTensor(rc, d,  th.Size(op.shape)).cuda()\n",
    "\n",
    "            del d, rc\n",
    "            th.cuda.empty_cache()\n",
    "\n",
    "            temp = th.spmm(tm, u.to_dense())\n",
    "\n",
    "            del tm\n",
    "            th.cuda.empty_cache()\n",
    "\n",
    "            dop_gpu = th.spmm(u.t(), temp)\n",
    "\n",
    "            del temp\n",
    "            th.cuda.empty_cache()\n",
    "\n",
    "            dop = csr_matrix(dop_gpu.cpu().numpy(), dtype=np.float32)\n",
    "\n",
    "            del dop_gpu\n",
    "            th.cuda.empty_cache()\n",
    "        dop_vec.append(dop)\n",
    "    del u\n",
    "    th.cuda.empty_cache()\n",
    "    return dop_vec"
   ]
  },
  {
   "cell_type": "code",
   "execution_count": 24,
   "metadata": {},
   "outputs": [],
   "source": [
    "import anderson_model as am"
   ]
  },
  {
   "cell_type": "code",
   "execution_count": 25,
   "metadata": {},
   "outputs": [],
   "source": [
    "beta = 10.0\n",
    "num_iw = 64\n",
    "wn = np.pi * (2 * np.array(range(-int(num_iw / 2), num_iw / 2)) + 1) / beta"
   ]
  },
  {
   "cell_type": "code",
   "execution_count": 26,
   "metadata": {},
   "outputs": [],
   "source": [
    "H = am.A(mc = 2,\n",
    "        mu = 0.15625,\n",
    "        n_max = 80,\n",
    "        Ud = 0., \n",
    "        Vcd = [2, -2],\n",
    "        ec = [-1, 1],\n",
    "        gamma_bd = 0.23, \n",
    "        eb = 0.07, \n",
    "        delta = 1.0, calc = True)"
   ]
  },
  {
   "cell_type": "code",
   "execution_count": 27,
   "metadata": {},
   "outputs": [
    {
     "name": "stderr",
     "output_type": "stream",
     "text": [
      "/home/aegaeon/anaconda3/envs/aegaeon/lib/python2.7/site-packages/ipykernel_launcher.py:1: SparseEfficiencyWarning: Changing the sparsity structure of a csr_matrix is expensive. lil_matrix is more efficient.\n",
      "  \"\"\"Entry point for launching an IPython kernel.\n"
     ]
    }
   ],
   "source": [
    "e, e0, u = diagonalize_hamiltonian(H.get_H(), H.get_blocks())"
   ]
  },
  {
   "cell_type": "code",
   "execution_count": 30,
   "metadata": {},
   "outputs": [],
   "source": [
    "z = calculate_partition_function(beta, e)\n",
    "\n",
    "op1, op2 = H.c_dag_up(), H.c_up()\n",
    "\n",
    "gf = get_frequency_greens_function_component(operators_to_eigenbasis_cpu, 1j * wn, op1, op2, beta, e, u, z)"
   ]
  },
  {
   "cell_type": "code",
   "execution_count": 31,
   "metadata": {},
   "outputs": [
    {
     "data": {
      "text/plain": [
       "array([-0.00061502+0.04947894j, -0.00065419+0.05103101j,\n",
       "       -0.00069716+0.05268105j, -0.00074442+0.05443838j,\n",
       "       -0.00079656+0.05631346j, -0.00085424+0.05831809j,\n",
       "       -0.00091828+0.06046564j, -0.00098959+0.0627713j ,\n",
       "       -0.0010693 +0.06525232j, -0.00115874+0.06792844j,\n",
       "       -0.00125948+0.07082222j, -0.00137343+0.07395951j,\n",
       "       -0.00150288+0.07737004j, -0.00165061+0.08108792j,\n",
       "       -0.00182002+0.08515242j, -0.00201521+0.08960849j,\n",
       "       -0.00224122+0.09450743j, -0.00250419+0.09990713j,\n",
       "       -0.00281152+0.10587182j, -0.00317212+0.1124704j ,\n",
       "       -0.00359632+0.1197724j , -0.00409565+0.12783895j,\n",
       "       -0.00468155+0.13670495j, -0.00536258+0.14634483j,\n",
       "       -0.00613804+0.15661004j, -0.00698559+0.16712102j,\n",
       "       -0.00784042+0.17710233j, -0.00857043+0.18520932j,\n",
       "       -0.00898685+0.18968308j, -0.00904945+0.19035073j,\n",
       "       -0.00999505+0.20012471j, -0.0334888 +0.36895093j,\n",
       "       -0.0334888 -0.36895093j, -0.00999505-0.20012471j,\n",
       "       -0.00904945-0.19035073j, -0.00898685-0.18968308j,\n",
       "       -0.00857043-0.18520932j, -0.00784042-0.17710233j,\n",
       "       -0.00698559-0.16712102j, -0.00613804-0.15661004j,\n",
       "       -0.00536258-0.14634483j, -0.00468155-0.13670495j,\n",
       "       -0.00409565-0.12783895j, -0.00359632-0.1197724j ,\n",
       "       -0.00317212-0.1124704j , -0.00281152-0.10587182j,\n",
       "       -0.00250419-0.09990713j, -0.00224122-0.09450743j,\n",
       "       -0.00201521-0.08960849j, -0.00182002-0.08515242j,\n",
       "       -0.00165061-0.08108792j, -0.00150288-0.07737004j,\n",
       "       -0.00137343-0.07395951j, -0.00125948-0.07082222j,\n",
       "       -0.00115874-0.06792844j, -0.0010693 -0.06525232j,\n",
       "       -0.00098959-0.0627713j , -0.00091828-0.06046564j,\n",
       "       -0.00085424-0.05831809j, -0.00079656-0.05631346j,\n",
       "       -0.00074442-0.05443838j, -0.00069716-0.05268105j,\n",
       "       -0.00065419-0.05103101j, -0.00061502-0.04947894j], dtype=complex64)"
      ]
     },
     "execution_count": 31,
     "metadata": {},
     "output_type": "execute_result"
    }
   ],
   "source": [
    "gf"
   ]
  }
 ],
 "metadata": {
  "kernelspec": {
   "display_name": "Python 3",
   "language": "python",
   "name": "python3"
  },
  "language_info": {
   "codemirror_mode": {
    "name": "ipython",
    "version": 3
   },
   "file_extension": ".py",
   "mimetype": "text/x-python",
   "name": "python",
   "nbconvert_exporter": "python",
   "pygments_lexer": "ipython3",
   "version": "3.7.3"
  }
 },
 "nbformat": 4,
 "nbformat_minor": 4
}
