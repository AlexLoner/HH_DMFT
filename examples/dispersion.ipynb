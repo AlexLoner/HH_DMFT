{
 "cells": [
  {
   "cell_type": "markdown",
   "metadata": {},
   "source": [
    "### module"
   ]
  },
  {
   "cell_type": "code",
   "execution_count": 1,
   "metadata": {},
   "outputs": [
    {
     "name": "stdout",
     "output_type": "stream",
     "text": [
      "Overwriting tight_binding.py\n"
     ]
    }
   ],
   "source": [
    "%%writefile tight_binding.py\n",
    "# -*- coding: utf-8 -*-\n",
    "from __future__ import print_function, division, absolute_import, unicode_literals\n",
    "\n",
    "import numpy as np\n",
    "from itertools import product \n",
    "\n",
    "class Tight_binding():\n",
    "    \n",
    "    def read_file(self, name):\n",
    "        ''' Readind file with structure '''\n",
    "        with open(name) as f:\n",
    "            data = [i for i in f.read().split('\\n') if i != '']\n",
    "\n",
    "        self.vectors = np.array([eval(i) for i in data[0].replace(' ', '').replace(')(', ') (').split(' ') ], dtype=np.float64)\n",
    "        self.N = np.int32(data[1])\n",
    "        self.coordinates = np.array([eval(i) for i in data[2].replace(' ', '').replace(')(', ') (').split(' ') ], dtype=np.float64)\n",
    "\n",
    "        self.R = []\n",
    "        self.T = {}\n",
    "        for k in data[3:]:\n",
    "            parts = k.split(')')\n",
    "            r = eval(parts[0] + ')')\n",
    "            i,j,t = map(float, parts[1].split())\n",
    "            i, j = np.int(i), np.int(j)\n",
    "\n",
    "            if r not in self.T.keys():\n",
    "                self.R = np.append(self.R, r)\n",
    "                self.T[r] = np.zeros((self.N,self.N), dtype = np.float64)\n",
    "            self.T[r][i,j] += t\n",
    "        self.R = self.R.reshape((-1, 3))\n",
    "\n",
    "        index = list(range(3))\n",
    "        for i in index:\n",
    "            if all(self.vectors[i] == np.zeros(3)): \n",
    "                ind = index.pop(i)\n",
    "        self.k_vec = np.zeros((3,3), dtype = np.float64)\n",
    "        vs = np.zeros((3,3), dtype = np.float64)\n",
    "        vs[index] = self.vectors[index]\n",
    "        if len(index) == 1:\n",
    "            V = np.linalg.norm(vs[index])\n",
    "            self.k_vec = vs / V**2\n",
    "        elif len(index) == 2:\n",
    "            V = np.linalg.norm(np.cross(vs[index[0]], vs[index[1]]))\n",
    "            n = np.cross(vs[index[0]], vs[index[1]]) / V\n",
    "            if ind == 1:\n",
    "                n *= -1\n",
    "            vs[ind] = n\n",
    "            for i, j in enumerate([[1,2], [2,0], [0, 1]]):\n",
    "                 self.k_vec[i] = np.cross(vs[j[0]],vs[j[1]]) / V\n",
    "            self.k_vec[ind] = 0.\n",
    "        else:\n",
    "            V = np.dot(vs[0], np.cross(vs[1], vs[2]))\n",
    "            for i, j in enumerate([[1,2], [2,0], [0, 1]]):\n",
    "                 self.k_vec[i] = np.cross(vs[j[0]],vs[j[1]]) / V\n",
    "\n",
    "    def make_k_points(self, points):\n",
    "        points = np.array(points)\n",
    "        assert all(points)\n",
    "        self.nkx, self.nky, self.nkz = points\n",
    "        \n",
    "        self.k_points = []\n",
    "        for n in product(range(1, self.nkx + 1),range(1, self.nky + 1),range(1, self.nkz + 1)):\n",
    "            self.k_points.append(np.sum((2. * np.array(n) - points - 1) * self.k_vec / 2. / points , axis = 0))\n",
    "        self.k_points = np.array(self.k_points)\n",
    "    \n",
    "    def get_kpts(self):\n",
    "        return self.k_points\n",
    "        \n",
    "    def dop(self, kpt):\n",
    "        ''' Calculate energy for a single k-point '''\n",
    "        H = np.zeros((self.N, self.N) , dtype = np.complex128)\n",
    "        for r in self.R:\n",
    "            for i in range(self.N):\n",
    "                for j in range(self.N):\n",
    "                    H[i,j] += self.T[tuple(r)][i,j] * np.exp(2. * np.pi * 1j * np.dot(kpt , self.coordinates[i] - self.coordinates[j] + r))\n",
    "        return np.linalg.eig(H)[0]\n",
    "    \n",
    "    def dispersion(self):\n",
    "        '''\n",
    "        Calculate system dispersion\n",
    "                \n",
    "        ####----------####\n",
    "        If k_point was not calculate before, it compute with k_point grid (20, 20, 20)\n",
    "        \n",
    "        '''\n",
    "        \n",
    "        try:\n",
    "            size = self.get_kpts().shape[0]\n",
    "        except :\n",
    "            self.make_k_points((20, 20, 20))\n",
    "            size = self.get_kpts().shape[0]\n",
    "        \n",
    "        self.E = np.zeros((self.N, self.get_kpts().shape[0]), dtype=np.complex128)\n",
    "        for k in range(self.get_kpts().shape[0]):\n",
    "            self.E[:,k] = self.dop(self.k_points[k])\n",
    "\n",
    "            \n",
    "        return self.E\n",
    "    \n",
    "    def gf_iwn(self, wn, mu, sigma = 0):\n",
    "        '''Return Green function in matsubara frequencies'''\n",
    "        self.g_wn = np.zeros(len(wn), dtype=np.complex128)\n",
    "        if isinstance(sigma, int): sigma = np.zeros(len(wn), dtype=np.complex128)\n",
    "        for w in range(len(wn)):\n",
    "            for i in range(self.N):\n",
    "                self.g_wn[w] += np.sum(1. / (1j*wn[w] - self.E[i] + mu - sigma[w])) \n",
    "        self.g_wn /= self.N * self.k_points.shape[0]\n",
    "        return self.g_wn\n",
    "    \n",
    "    def gf_w(self, omega, mu, etta = 0, sigma = 0):\n",
    "        '''Return Green function in real frequencies'''\n",
    "        try:\n",
    "            tmp = self.E[0]\n",
    "        except:\n",
    "            self.dispersion()\n",
    "        \n",
    "        self.gw = np.zeros(omega.shape[0], dtype=np.complex128)\n",
    "        if sigma == 0: sigma = np.zeros(omega.shape[0], dtype=np.complex128)\n",
    "        for w in range(omega.shape[0]):\n",
    "            for i in range(self.N):\n",
    "                self.gw[w] += np.sum(1. / (omega[w] + 1j * etta - self.E[i] + mu - sigma[w])) \n",
    "        self.gw /= self.N * self.k_points.shape[0] \n",
    "        return self.gw\n",
    "    \n",
    "    def DOS(self, w, mu, etta, sigma = 0):\n",
    "        self.omega = w \n",
    "        self.dos = -np.imag(self.gf_w(w, mu, etta, sigma)) / np.pi\n",
    "        \n",
    "    def HT(self, g, wn, mu = 0, sigma = 0):\n",
    "        if isinstance(sigma, int): sigma = np.zeros(g.shape[0], dtype=np.complex128)\n",
    "        dw = (self.omega[-1] - self.omega[0]) / self.omega.shape[0]\n",
    "        for i in range(g.shape[0]):\n",
    "            g[i] = np.sum(self.dos * dw / (1j * wn[i] - self.omega - sigma[i] + mu))"
   ]
  },
  {
   "cell_type": "code",
   "execution_count": 25,
   "metadata": {},
   "outputs": [],
   "source": [
    "a = Dispersion()"
   ]
  },
  {
   "cell_type": "code",
   "execution_count": 26,
   "metadata": {},
   "outputs": [],
   "source": [
    "a.read_file('test_data/cubic.txt')"
   ]
  },
  {
   "cell_type": "code",
   "execution_count": 27,
   "metadata": {},
   "outputs": [],
   "source": [
    "a.make_k_points((50,50,50))"
   ]
  },
  {
   "cell_type": "code",
   "execution_count": 28,
   "metadata": {},
   "outputs": [],
   "source": [
    "e = a.dispersion()"
   ]
  },
  {
   "cell_type": "code",
   "execution_count": 29,
   "metadata": {},
   "outputs": [],
   "source": [
    "w = np.linspace(-8,8, 1000)\n",
    "d = DOS(a,w,etta = 0.1)"
   ]
  },
  {
   "cell_type": "code",
   "execution_count": 30,
   "metadata": {},
   "outputs": [],
   "source": [
    "d.gf_imp(mu=0.0)"
   ]
  },
  {
   "cell_type": "code",
   "execution_count": 31,
   "metadata": {},
   "outputs": [
    {
     "data": {
      "text/plain": [
       "[<matplotlib.lines.Line2D at 0x7f3b99e1b510>]"
      ]
     },
     "execution_count": 31,
     "metadata": {},
     "output_type": "execute_result"
    },
    {
     "data": {
      "image/png": "[encoded data removed]",
      "text/plain": [
       "<Figure size 432x288 with 1 Axes>"
      ]
     },
     "metadata": {
      "needs_background": "light"
     },
     "output_type": "display_data"
    }
   ],
   "source": [
    "plt.plot(d.dos())"
   ]
  },
  {
   "cell_type": "code",
   "execution_count": null,
   "metadata": {},
   "outputs": [],
   "source": [
    "beta = 10.\n",
    "num_iw = 128\n",
    "wn = np.pi * (2 * np.array(range(-int(num_iw / 2), num_iw / 2)) + 1) / beta"
   ]
  },
  {
   "cell_type": "code",
   "execution_count": null,
   "metadata": {},
   "outputs": [],
   "source": [
    "a.gf_imp(wn, mu = 0.0)"
   ]
  },
  {
   "cell_type": "code",
   "execution_count": null,
   "metadata": {},
   "outputs": [],
   "source": [
    "plt.plot(a.g0.imag)"
   ]
  },
  {
   "cell_type": "code",
   "execution_count": 188,
   "metadata": {},
   "outputs": [
    {
     "name": "stderr",
     "output_type": "stream",
     "text": [
      "Starting on 1 Nodes at : 2020-01-20 16:42:09.254740\n"
     ]
    }
   ],
   "source": [
    "from pytriqs.lattice.tight_binding import *\n",
    "from pytriqs.gf import *\n",
    "from pytriqs.dos import HilbertTransform\n",
    "\n",
    "BL = BravaisLattice(units = [(1,0,0) , (0,1,0) ,(0,0,1)])\n",
    "\n",
    "t1  = -0.45                # First neighbour Hopping\n",
    "t2  = -0.00                # Second neighbour Hopping\n",
    "t4  =  0.00                # Fourth neighbour Hopping\n",
    "\n",
    "hop={}\n",
    "\n",
    "hop[(1,0,0)]=[[t1]]\n",
    "hop[(0,1,0)]=[[t1]]\n",
    "hop[(0,0,1)]=[[t1]]\n",
    "hop[(-1,0,0)]=[[t1]]\n",
    "hop[(0,-1,0)]=[[t1]]\n",
    "hop[(0,0,-1)]=[[t1]]\n",
    "\n",
    "\n",
    "TB = TightBinding ( BL, hop)\n",
    "d = dos (TB, n_kpts= 500, n_eps = 101, name = 'dos')[0]"
   ]
  },
  {
   "cell_type": "code",
   "execution_count": 189,
   "metadata": {},
   "outputs": [],
   "source": [
    "mu = 0.0"
   ]
  },
  {
   "cell_type": "code",
   "execution_count": 191,
   "metadata": {},
   "outputs": [
    {
     "name": "stderr",
     "output_type": "stream",
     "text": [
      "/home/aegaeon/anaconda3/envs/aegaeon/lib/python2.7/site-packages/pytriqs/gf/gf.py:655: UserWarning: g.N1 is deprecated and not generic. Use g.target_shape[0] instead\n",
      "  warnings.warn(\"g.N1 is deprecated and not generic. Use g.target_shape[0] instead\")\n",
      "/home/aegaeon/anaconda3/envs/aegaeon/lib/python2.7/site-packages/pytriqs/gf/gf.py:661: UserWarning: g.N2 is deprecated and not generic. Use g.target_shape[1] instead\n",
      "  warnings.warn(\"g.N2 is deprecated and not generic. Use g.target_shape[1] instead\")\n"
     ]
    }
   ],
   "source": [
    "H = HilbertTransform(d)\n",
    "G = GfImFreq(mesh = MeshImFreq(beta, 'Fermion', num_iw//2), indices = [1])\n",
    "Sigma0 = GfImFreq(mesh = MeshImFreq(beta, 'Fermion', num_iw//2), indices = [1])\n",
    "Sigma0.zero()\n",
    "G << H(Sigma = Sigma0, mu=mu)\n",
    "gf_initial = G.data[:,0,0].astype(np.complex128)"
   ]
  },
  {
   "cell_type": "code",
   "execution_count": 192,
   "metadata": {},
   "outputs": [
    {
     "data": {
      "text/plain": [
       "[<matplotlib.lines.Line2D at 0x7f84bcc2a450>]"
      ]
     },
     "execution_count": 192,
     "metadata": {},
     "output_type": "execute_result"
    },
    {
     "data": {
      "image/png": "[encoded data removed]",
      "text/plain": [
       "<Figure size 432x288 with 1 Axes>"
      ]
     },
     "metadata": {
      "needs_background": "light"
     },
     "output_type": "display_data"
    }
   ],
   "source": [
    "plt.plot(g.imag)\n",
    "plt.plot(gf_initial.imag)"
   ]
  },
  {
   "cell_type": "code",
   "execution_count": 361,
   "metadata": {},
   "outputs": [],
   "source": [
    "Sigma0.data[:,0,0] = np.random.sample(num_iw) + 1j * np.random.sample(num_iw) "
   ]
  },
  {
   "cell_type": "code",
   "execution_count": 362,
   "metadata": {},
   "outputs": [],
   "source": [
    "G << H(Sigma = Sigma0, mu=mu)\n",
    "gf = G.data[:,0,0].astype(np.complex128)"
   ]
  },
  {
   "cell_type": "code",
   "execution_count": 363,
   "metadata": {},
   "outputs": [],
   "source": [
    "g = np.zeros(num_iw, dtype=np.complex128)\n",
    "sigma = Sigma0.data[:,0,0]\n",
    "d.HT(g, wn, sigma)"
   ]
  },
  {
   "cell_type": "code",
   "execution_count": 364,
   "metadata": {},
   "outputs": [
    {
     "data": {
      "text/plain": [
       "[<matplotlib.lines.Line2D at 0x7f84ac91f8d0>]"
      ]
     },
     "execution_count": 364,
     "metadata": {},
     "output_type": "execute_result"
    },
    {
     "data": {
      "image/png": "[encoded data removed]",
      "text/plain": [
       "<Figure size 864x576 with 1 Axes>"
      ]
     },
     "metadata": {
      "needs_background": "light"
     },
     "output_type": "display_data"
    }
   ],
   "source": [
    "plt.figure(figsize=(12,8))\n",
    "plt.plot(gf.imag)\n",
    "plt.plot(g.imag)"
   ]
  },
  {
   "cell_type": "code",
   "execution_count": null,
   "metadata": {},
   "outputs": [],
   "source": []
  }
 ],
 "metadata": {
  "kernelspec": {
   "display_name": "Python 3",
   "language": "python",
   "name": "python3"
  },
  "language_info": {
   "codemirror_mode": {
    "name": "ipython",
    "version": 3
   },
   "file_extension": ".py",
   "mimetype": "text/x-python",
   "name": "python",
   "nbconvert_exporter": "python",
   "pygments_lexer": "ipython3",
   "version": "3.7.3"
  }
 },
 "nbformat": 4,
 "nbformat_minor": 4
}
